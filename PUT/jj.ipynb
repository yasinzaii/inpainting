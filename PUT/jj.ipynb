{
 "cells": [
  {
   "cell_type": "code",
   "id": "initial_id",
   "metadata": {
    "collapsed": true,
    "ExecuteTime": {
     "end_time": "2024-08-04T07:08:35.122382Z",
     "start_time": "2024-08-04T07:08:35.118943Z"
    }
   },
   "source": "print(\"aa\")",
   "outputs": [
    {
     "name": "stdout",
     "output_type": "stream",
     "text": [
      "aa\n"
     ]
    }
   ],
   "execution_count": 2
  },
  {
   "metadata": {
    "jupyter": {
     "is_executing": true
    }
   },
   "cell_type": "code",
   "source": "import torch",
   "id": "27c6a8c6bb0bd971",
   "outputs": [],
   "execution_count": null
  },
  {
   "metadata": {
    "ExecuteTime": {
     "end_time": "2024-08-06T14:20:43.117202Z",
     "start_time": "2024-08-06T14:20:43.109860Z"
    }
   },
   "cell_type": "code",
   "source": "torch.__version__",
   "id": "acd1761da849de7c",
   "outputs": [
    {
     "data": {
      "text/plain": [
       "'2.0.1'"
      ]
     },
     "execution_count": 15,
     "metadata": {},
     "output_type": "execute_result"
    }
   ],
   "execution_count": 15
  },
  {
   "metadata": {
    "ExecuteTime": {
     "end_time": "2024-08-04T07:35:20.539039Z",
     "start_time": "2024-08-04T07:35:20.535543Z"
    }
   },
   "cell_type": "code",
   "source": [
    "import os\n",
    "print(os.getcwd())"
   ],
   "id": "36c1e136b3166457",
   "outputs": [
    {
     "name": "stdout",
     "output_type": "stream",
     "text": [
      "/home/data/zhujinxian/code/put/PUT\n"
     ]
    }
   ],
   "execution_count": 7
  },
  {
   "metadata": {
    "ExecuteTime": {
     "end_time": "2024-08-04T08:02:01.669534Z",
     "start_time": "2024-08-04T08:02:01.665139Z"
    }
   },
   "cell_type": "code",
   "source": "pwd",
   "id": "7a8ea18f6806dc68",
   "outputs": [
    {
     "data": {
      "text/plain": [
       "'/home/data/zhujinxian/code/put/PUT'"
      ]
     },
     "execution_count": 8,
     "metadata": {},
     "output_type": "execute_result"
    }
   ],
   "execution_count": 8
  },
  {
   "metadata": {
    "ExecuteTime": {
     "end_time": "2024-08-04T08:02:42.035113Z",
     "start_time": "2024-08-04T08:02:42.030246Z"
    }
   },
   "cell_type": "code",
   "source": "cd data",
   "id": "ebc9a055ebcab11",
   "outputs": [
    {
     "name": "stdout",
     "output_type": "stream",
     "text": [
      "/home/data/zhujinxian/code/put/PUT/data\n"
     ]
    }
   ],
   "execution_count": 9
  },
  {
   "metadata": {
    "ExecuteTime": {
     "end_time": "2024-08-04T08:02:50.452028Z",
     "start_time": "2024-08-04T08:02:50.058799Z"
    }
   },
   "cell_type": "code",
   "source": "ls",
   "id": "2753ce7108731f3",
   "outputs": [
    {
     "name": "stdout",
     "output_type": "stream",
     "text": [
      "\u001B[0m\u001B[01;34mffhq_256_sample\u001B[0m/       \u001B[01;34mimagenet_512_sample\u001B[0m/      \u001B[01;34mnaturalscene_512_sample\u001B[0m/\r\n",
      "\u001B[01;34mffhq_512_sample\u001B[0m/       imagenet_ict_test.txt     naturalscenetrain.txt\r\n",
      "ffhqtrain_69k.txt      imagenettrain.txt         naturalscenevalidation.txt\r\n",
      "ffhqvalidation_1k.txt  imagenetvalidation.txt    \u001B[01;34msintel\u001B[0m/\r\n",
      "\u001B[01;34mimagenet\u001B[0m/              irregular_mask.txt\r\n",
      "\u001B[01;34mimagenet_256_sample\u001B[0m/   \u001B[01;34mnaturalscene_256_sample\u001B[0m/\r\n"
     ]
    }
   ],
   "execution_count": 10
  },
  {
   "metadata": {
    "ExecuteTime": {
     "end_time": "2024-08-04T08:15:02.063191Z",
     "start_time": "2024-08-04T08:15:02.024565Z"
    }
   },
   "cell_type": "code",
   "source": [
    "from put.PUT.image_synthesis.utils.io import load_yaml_config\n",
    "config = load_yaml_config(\"/data/zhujinxian/code/put/PUT/configs/put_cvpr2022/sintel/p_vqvae_sintel.yaml\")\n",
    "print(config['dataloader'])"
   ],
   "id": "a589b7225a4ef950",
   "outputs": [
    {
     "name": "stdout",
     "output_type": "stream",
     "text": [
      "{'data_root': 'put.PUT.data', 'batch_size': 16, 'num_workers': 1, 'train_datasets': [{'target': 'put.PUT.image_synthesis.data.image_list_dataset.ImageListDataset', 'params': {'name': 'imagenet/train', 'image_end_with': 'flo', 'provided_mask_name': 'irregular-mask/testing_mask_dataset', 'use_provided_mask': 0.7, 'use_provided_mask_ratio': ['0.2', '0.6'], 'mask': 1.0, 'mask_low_to_high': 0.0, 'mask_low_size': [32, 32], 'zero_mask': 0.3, 'multi_image_mask': False, 'erase_image_with_mask': 0.2, 'return_data_keys': ['image', 'mask', 'erase_mask'], 'stroken_mask_params': {'maxVertex': 10, 'minVertex': 5, 'maxLength': 100, 'maxBrushWidth': 30, 'minBrushWidth': 10, 'keep_ratio': [0.0, 0.5], 'min_area': 64}, 'im_preprocessor_config': {'target': 'image_synthesis.data.utils.image_preprocessor.SimplePreprocessor', 'params': {'size': [1024, 436], 'smallest_max_size': 264, 'random_crop': True, 'horizon_flip': True}}}}], 'validation_datasets': [{'target': 'image_synthesis.data.image_list_dataset.ImageListDataset', 'params': {'name': 'imagenet/val', 'image_end_with': 'JPEG', 'provided_mask_name': 'irregular-mask/testing_mask_dataset', 'use_provided_mask': 0.7, 'use_provided_mask_ratio': ['0.2', '0.6'], 'mask': 1.0, 'mask_low_to_high': 0.0, 'mask_low_size': [32, 32], 'zero_mask': 0.3, 'erase_image_with_mask': 0.2, 'multi_image_mask': False, 'return_data_keys': ['image', 'mask', 'erase_mask'], 'stroken_mask_params': {'maxVertex': 10, 'minVertex': 5, 'maxLength': 100, 'maxBrushWidth': 30, 'minBrushWidth': 10, 'keep_ratio': [0.0, 0.5], 'min_area': 64}, 'im_preprocessor_config': {'target': 'image_synthesis.data.utils.image_preprocessor.SimplePreprocessor', 'params': {'size': [1024, 436], 'smallest_max_size': 256}}}}]}\n"
     ]
    }
   ],
   "execution_count": 12
  },
  {
   "metadata": {
    "ExecuteTime": {
     "end_time": "2024-08-04T08:39:30.873319Z",
     "start_time": "2024-08-04T08:39:30.850783Z"
    }
   },
   "cell_type": "code",
   "source": "print(os.path.abspath(os.path.dirname(__file__)))",
   "id": "cddbd44ca5d313f0",
   "outputs": [
    {
     "ename": "NameError",
     "evalue": "name '__file__' is not defined",
     "output_type": "error",
     "traceback": [
      "\u001B[0;31m---------------------------------------------------------------------------\u001B[0m",
      "\u001B[0;31mNameError\u001B[0m                                 Traceback (most recent call last)",
      "Cell \u001B[0;32mIn[15], line 1\u001B[0m\n\u001B[0;32m----> 1\u001B[0m \u001B[38;5;28mprint\u001B[39m(os\u001B[38;5;241m.\u001B[39mpath\u001B[38;5;241m.\u001B[39mabspath(os\u001B[38;5;241m.\u001B[39mpath\u001B[38;5;241m.\u001B[39mdirname(\u001B[38;5;18m__file__\u001B[39m)))\n",
      "\u001B[0;31mNameError\u001B[0m: name '__file__' is not defined"
     ]
    }
   ],
   "execution_count": 15
  },
  {
   "metadata": {
    "ExecuteTime": {
     "end_time": "2024-08-04T08:38:54.544419Z",
     "start_time": "2024-08-04T08:38:54.538356Z"
    }
   },
   "cell_type": "code",
   "source": "",
   "id": "90a56f7a49e2c1a4",
   "outputs": [
    {
     "name": "stdout",
     "output_type": "stream",
     "text": [
      "/home/data/zhujinxian/code/put/PUT/data/__main__\n"
     ]
    }
   ],
   "execution_count": 14
  },
  {
   "metadata": {
    "ExecuteTime": {
     "end_time": "2024-08-05T12:47:07.061680Z",
     "start_time": "2024-08-05T12:47:07.056546Z"
    }
   },
   "cell_type": "code",
   "source": [
    "import numpy as np\n",
    "\n",
    "def get_max_absolute_value(numpy_array):\n",
    "    return np.max(np.abs(numpy_array))\n",
    "# Example usage\n",
    "numpy_array = np.array([[-10, -20],[30, -35]])\n",
    "max_abs_value = get_max_absolute_value(numpy_array)\n",
    "print(max_abs_value)  # Output: 30"
   ],
   "id": "33806f63b7833cdd",
   "outputs": [
    {
     "name": "stdout",
     "output_type": "stream",
     "text": [
      "35\n"
     ]
    }
   ],
   "execution_count": 4
  },
  {
   "metadata": {},
   "cell_type": "code",
   "outputs": [],
   "execution_count": null,
   "source": "",
   "id": "5e3171bd8fa418e0"
  }
 ],
 "metadata": {
  "kernelspec": {
   "display_name": "Python 3",
   "language": "python",
   "name": "python3"
  },
  "language_info": {
   "codemirror_mode": {
    "name": "ipython",
    "version": 2
   },
   "file_extension": ".py",
   "mimetype": "text/x-python",
   "name": "python",
   "nbconvert_exporter": "python",
   "pygments_lexer": "ipython2",
   "version": "2.7.6"
  }
 },
 "nbformat": 4,
 "nbformat_minor": 5
}
